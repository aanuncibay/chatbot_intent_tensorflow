{
 "cells": [
  {
   "cell_type": "markdown",
   "source": [
    "Fuente: https://github.com/ugik/notebooks/blob/master/Tensorflow%20chat-bot%20model.ipynb\r\n",
    "        https://github.com/ugik/notebooks/blob/master/Tensorflow%20chat-bot%20response.ipynb\r\n",
    "        https://www.youtube.com/watch?v=1lwddP0KUEg&t=1763s"
   ],
   "metadata": {}
  },
  {
   "cell_type": "code",
   "execution_count": null,
   "source": [
    "import  nltk\r\n",
    "from    nltk.stem import WordNetLemmatizer\r\n",
    "from    tensorflow.keras.models import load_model\r\n",
    "import  json\r\n",
    "import  numpy as np\r\n",
    "import  tensorflow as tf\r\n",
    "import  random\r\n",
    "import  pickle\r\n",
    "\r\n",
    "lemmatizer = WordNetLemmatizer()\r\n",
    "ERROR_THRESHOLD = 0.25\r\n"
   ],
   "outputs": [],
   "metadata": {}
  },
  {
   "cell_type": "code",
   "execution_count": null,
   "source": [
    "model =     load_model('./data/chatbot_model.h5')\r\n",
    "words =     pickle.load(open('./data/words.pkl', 'rb'))\r\n",
    "classes =   pickle.load(open('./data/classes.pkl', 'rb'))\r\n",
    "intents =   json.loads(open('./data/intents.json', encoding = \"utf-8\").read())"
   ],
   "outputs": [],
   "metadata": {}
  },
  {
   "cell_type": "code",
   "execution_count": null,
   "source": [
    "def clean_up_sentence(sentence):\r\n",
    "    sentence_words = nltk.word_tokenize(sentence)\r\n",
    "    sentence_words = [lemmatizer.lemmatize(word.lower()) for word in sentence_words]\r\n",
    "    return sentence_words\r\n",
    "\r\n",
    "def bag_of_words(sentence):\r\n",
    "    sentence_words = clean_up_sentence(sentence)\r\n",
    "    bag = [0]*len(words)  \r\n",
    "    for s in sentence_words:\r\n",
    "        for i,w in enumerate(words):\r\n",
    "            if w == s: \r\n",
    "                bag[i] = 1\r\n",
    "    return(np.array(bag))\r\n",
    "    \r\n",
    "def classify(sentence):\r\n",
    "    print('\\n USUARIO:', sentence)\r\n",
    "    bow =   bag_of_words(sentence)\r\n",
    "    res =   model.predict(np.array([bow]))[0]\r\n",
    "    results = [[i,r] for i,r in enumerate(res) if r>ERROR_THRESHOLD]\r\n",
    "    results.sort(key=lambda x: x[1], reverse=True)\r\n",
    "    return_list = []\r\n",
    "    for r in results:\r\n",
    "        return_list.append({'intent': classes[r[0]], 'probability':str(r[1])})\r\n",
    "    return return_list\r\n",
    "\r\n",
    "def get_response(intents_list, intent_json): \r\n",
    "    tag = intents_list[0]['intent']\r\n",
    "    list_of_intents = intents['intents']\r\n",
    "    for i in list_of_intents: \r\n",
    "        if i['tag'] == tag: \r\n",
    "            result = random.choice(i['responses'])\r\n",
    "            break\r\n",
    "    return result\r\n"
   ],
   "outputs": [],
   "metadata": {}
  },
  {
   "cell_type": "code",
   "execution_count": null,
   "source": [
    "while True: \r\n",
    "    message = input('')\r\n",
    "    ints = classify(message)\r\n",
    "    #print('ints', ints)\r\n",
    "    result = get_response(ints, intents)\r\n",
    "    print('Bot:', result)\r\n",
    "    "
   ],
   "outputs": [],
   "metadata": {}
  }
 ],
 "metadata": {
  "kernelspec": {
   "name": "python3",
   "display_name": "Python 3.9.4 64-bit"
  },
  "language_info": {
   "codemirror_mode": {
    "name": "ipython",
    "version": 3
   },
   "file_extension": ".py",
   "mimetype": "text/x-python",
   "name": "python",
   "nbconvert_exporter": "python",
   "pygments_lexer": "ipython3",
   "version": "3.9.4"
  },
  "interpreter": {
   "hash": "2d8c4e0adecca2f9bb6152916de834ccf75a0d1de20f0239611dabd3480e2716"
  }
 },
 "nbformat": 4,
 "nbformat_minor": 4
}